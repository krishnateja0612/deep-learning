{
 "cells": [
  {
   "cell_type": "code",
   "execution_count": 31,
   "metadata": {},
   "outputs": [],
   "source": [
    "import pandas as pd\n",
    "\n",
    "import numpy as np\n",
    "import torch"
   ]
  },
  {
   "cell_type": "code",
   "execution_count": 32,
   "metadata": {},
   "outputs": [],
   "source": [
    "import torch.nn"
   ]
  },
  {
   "cell_type": "code",
   "execution_count": 33,
   "metadata": {},
   "outputs": [],
   "source": [
    "data1=pd.read_csv(\"bdata1.csv\")"
   ]
  },
  {
   "cell_type": "code",
   "execution_count": 34,
   "metadata": {},
   "outputs": [
    {
     "data": {
      "text/plain": [
       "0    int64\n",
       "1    int64\n",
       "2    int64\n",
       "3    int64\n",
       "4    int64\n",
       "5    int64\n",
       "6    int64\n",
       "7    int64\n",
       "8    int64\n",
       "9    int64\n",
       "dtype: object"
      ]
     },
     "execution_count": 34,
     "metadata": {},
     "output_type": "execute_result"
    }
   ],
   "source": [
    "data1.dtypes"
   ]
  },
  {
   "cell_type": "code",
   "execution_count": 35,
   "metadata": {},
   "outputs": [],
   "source": [
    "data2=data1.to_numpy()"
   ]
  },
  {
   "cell_type": "code",
   "execution_count": 36,
   "metadata": {},
   "outputs": [
    {
     "data": {
      "text/plain": [
       "dtype('int64')"
      ]
     },
     "execution_count": 36,
     "metadata": {},
     "output_type": "execute_result"
    }
   ],
   "source": [
    "data2.dtype"
   ]
  },
  {
   "cell_type": "code",
   "execution_count": 37,
   "metadata": {},
   "outputs": [],
   "source": [
    "data3= torch.tensor(data2, dtype=torch.float32)\n"
   ]
  },
  {
   "cell_type": "code",
   "execution_count": 38,
   "metadata": {},
   "outputs": [
    {
     "data": {
      "text/plain": [
       "tensor([0., 1., 1., 1., 1., 1., 0., 1., 0., 0.])"
      ]
     },
     "execution_count": 38,
     "metadata": {},
     "output_type": "execute_result"
    }
   ],
   "source": [
    "data3[0]"
   ]
  },
  {
   "cell_type": "code",
   "execution_count": 39,
   "metadata": {},
   "outputs": [],
   "source": [
    "model1=torch.nn.Sequential(torch.nn.Linear(10,2, bias=False), torch.nn.Linear(2,10, bias=False))"
   ]
  },
  {
   "cell_type": "code",
   "execution_count": 40,
   "metadata": {},
   "outputs": [
    {
     "data": {
      "text/plain": [
       "Sequential(\n",
       "  (0): Linear(in_features=10, out_features=2, bias=False)\n",
       "  (1): Linear(in_features=2, out_features=10, bias=False)\n",
       ")"
      ]
     },
     "execution_count": 40,
     "metadata": {},
     "output_type": "execute_result"
    }
   ],
   "source": [
    "model1"
   ]
  },
  {
   "cell_type": "code",
   "execution_count": 41,
   "metadata": {},
   "outputs": [],
   "source": [
    "optimizer= torch.optim.SGD(model1.parameters(), 1e-2)"
   ]
  },
  {
   "cell_type": "code",
   "execution_count": 42,
   "metadata": {},
   "outputs": [],
   "source": [
    "def training_loop(n_epochs, optimizer, model, loss_fun, input, output): \n",
    "    for epoch in range(1, n_epochs + 1):\n",
    "        p = model(input)\n",
    "        loss = loss_fun(p, output) \n",
    "       # print('loss',loss)\n",
    "        optimizer.zero_grad() \n",
    "        loss.backward() \n",
    "        optimizer.step()\n",
    "        if epoch == 1 or epoch % 1000 == 0:\n",
    "            print('Epoch {}, Loss {}'.format(epoch, float(loss)))"
   ]
  },
  {
   "cell_type": "code",
   "execution_count": 43,
   "metadata": {},
   "outputs": [
    {
     "name": "stdout",
     "output_type": "stream",
     "text": [
      "Epoch 1, Loss 0.5004283785820007\n",
      "Epoch 1000, Loss 0.19798381626605988\n",
      "Epoch 2000, Loss 0.11529742926359177\n",
      "Epoch 3000, Loss 0.09788785129785538\n",
      "Epoch 4000, Loss 0.09466427564620972\n",
      "Epoch 5000, Loss 0.09371545910835266\n"
     ]
    }
   ],
   "source": [
    "training_loop( n_epochs = 5000,\n",
    "optimizer = optimizer, \n",
    "model = model1,\n",
    "loss_fun = torch.nn.MSELoss(), \n",
    "input = data3,\n",
    "output = data3)\n"
   ]
  },
  {
   "cell_type": "code",
   "execution_count": 82,
   "metadata": {},
   "outputs": [
    {
     "name": "stdout",
     "output_type": "stream",
     "text": [
      "[Parameter containing:\n",
      "tensor([[ 0.3414,  0.2558,  0.5017,  0.2440,  0.4987,  0.1608, -0.2878,  0.1132,\n",
      "          0.0691,  0.0937],\n",
      "        [ 0.1014,  0.0949, -0.0166, -0.0361, -0.0046,  0.5716,  0.4333,  0.1460,\n",
      "          0.3518,  0.3878]], requires_grad=True), Parameter containing:\n",
      "tensor([[ 0.4809,  0.0212],\n",
      "        [ 0.4641, -0.0563],\n",
      "        [ 0.5070, -0.1299],\n",
      "        [ 0.5082, -0.1311],\n",
      "        [ 0.5819,  0.1034],\n",
      "        [ 0.0531,  0.5391],\n",
      "        [-0.1569,  0.6052],\n",
      "        [ 0.0533,  0.5389],\n",
      "        [ 0.0177,  0.4617],\n",
      "        [-0.1071,  0.4831]], requires_grad=True)]\n"
     ]
    }
   ],
   "source": [
    "print(list(model1.parameters()))"
   ]
  },
  {
   "cell_type": "markdown",
   "metadata": {},
   "source": [
    "Can you use the encoder matrix to compute the code for each of the ten rows as input?\n",
    "Ans: Yes. we can compute the code"
   ]
  },
  {
   "cell_type": "code",
   "execution_count": 85,
   "metadata": {},
   "outputs": [
    {
     "data": {
      "text/plain": [
       "(2, 10)"
      ]
     },
     "execution_count": 85,
     "metadata": {},
     "output_type": "execute_result"
    }
   ],
   "source": [
    "model1[0].parameters()\n",
    "\n",
    "Model_par = np.array([( 0.3414,  0.2558,  0.5017,  0.2440,  0.4987,  0.1608, -0.2878,  0.1132,\n",
    "          0.0691,  0.0937),\n",
    "        (0.1014,  0.0949, -0.0166, -0.0361, -0.0046,  0.5716,  0.4333,  0.1460,\n",
    "          0.3518,  0.3878)])\n",
    "Model_par.shape"
   ]
  },
  {
   "cell_type": "code",
   "execution_count": 86,
   "metadata": {},
   "outputs": [
    {
     "data": {
      "text/plain": [
       "array([[1.661 , 1.5858, 1.5976, 1.5976, 2.0961, 0.6407, 0.149 , 0.6407,\n",
       "        0.5786, 0.0358],\n",
       "       [0.6092, 0.0441, 0.1751, 0.1751, 1.0984, 1.568 , 1.8905, 1.568 ,\n",
       "        1.5341, 1.7445]])"
      ]
     },
     "execution_count": 86,
     "metadata": {},
     "output_type": "execute_result"
    }
   ],
   "source": [
    "New_data=data3.numpy()\n",
    "New_data.shape\n",
    "output = np.matmul(Model_par, New_data)\n",
    "\n",
    "output\n"
   ]
  },
  {
   "cell_type": "markdown",
   "metadata": {},
   "source": [
    " Which of the two nodes in the code reveals the two types of inputs?\n",
    "    Ans: Linear(in_features=10, out_features=2, bias=False). 10*2 node reveals types of inputs. Hidden 2 neurons."
   ]
  },
  {
   "cell_type": "code",
   "execution_count": null,
   "metadata": {},
   "outputs": [],
   "source": []
  }
 ],
 "metadata": {
  "kernelspec": {
   "display_name": "Python 3",
   "language": "python",
   "name": "python3"
  },
  "language_info": {
   "codemirror_mode": {
    "name": "ipython",
    "version": 3
   },
   "file_extension": ".py",
   "mimetype": "text/x-python",
   "name": "python",
   "nbconvert_exporter": "python",
   "pygments_lexer": "ipython3",
   "version": "3.7.3"
  }
 },
 "nbformat": 4,
 "nbformat_minor": 2
}
